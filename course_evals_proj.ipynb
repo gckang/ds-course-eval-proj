{
 "cells": [
  {
   "cell_type": "markdown",
   "metadata": {},
   "source": [
    "# Student Subjectivity in Course Evaluations"
   ]
  },
  {
   "cell_type": "code",
   "execution_count": 7,
   "metadata": {},
   "outputs": [],
   "source": [
    "import pandas as pd\n",
    "import numpy as np\n",
    "from nltk.sentiment import SentimentIntensityAnalyzer"
   ]
  },
  {
   "cell_type": "markdown",
   "metadata": {},
   "source": [
    "## Create the dataset"
   ]
  },
  {
   "cell_type": "code",
   "execution_count": 2,
   "metadata": {},
   "outputs": [],
   "source": [
    "set_df = pd.read_csv('cleaned-set.csv')\n",
    "tcf_df = pd.read_csv('cleaned-tcf.csv')"
   ]
  },
  {
   "cell_type": "code",
   "execution_count": 3,
   "metadata": {},
   "outputs": [
    {
     "name": "stdout",
     "output_type": "stream",
     "text": [
      "(614, 1)\n",
      "(408, 11)\n"
     ]
    }
   ],
   "source": [
    "print(set_df.shape)\n",
    "print(tcf_df.shape)"
   ]
  },
  {
   "cell_type": "code",
   "execution_count": 15,
   "metadata": {},
   "outputs": [],
   "source": [
    "# Calculate sentiment analysis scores\n",
    "sia = SentimentIntensityAnalyzer()\n",
    "\n",
    "tcf_df['Compound Score'] = tcf_df['Review Text'].apply(lambda text: sia.polarity_scores(text)[\"compound\"])\n",
    "tcf_df['Positive Score'] = tcf_df['Review Text'].apply(lambda text: sia.polarity_scores(text)[\"pos\"])\n",
    "tcf_df['Neutral Score'] = tcf_df['Review Text'].apply(lambda text: sia.polarity_scores(text)[\"neu\"])\n",
    "tcf_df['Negative Score'] = tcf_df['Review Text'].apply(lambda text: sia.polarity_scores(text)[\"neg\"])\n",
    "\n",
    "set_df['Compound Score'] = set_df['Comments'].apply(lambda text: sia.polarity_scores(text)[\"compound\"])\n",
    "set_df['Positive Score'] = set_df['Comments'].apply(lambda text: sia.polarity_scores(text)[\"pos\"])\n",
    "set_df['Neutral Score'] = set_df['Comments'].apply(lambda text: sia.polarity_scores(text)[\"neu\"])\n",
    "set_df['Negative Score'] = set_df['Comments'].apply(lambda text: sia.polarity_scores(text)[\"neg\"])"
   ]
  },
  {
   "cell_type": "code",
   "execution_count": 20,
   "metadata": {},
   "outputs": [
    {
     "name": "stderr",
     "output_type": "stream",
     "text": [
      "C:\\Users\\surfd\\AppData\\Local\\Temp\\ipykernel_42244\\1917828977.py:5: SettingWithCopyWarning: \n",
      "A value is trying to be set on a copy of a slice from a DataFrame.\n",
      "Try using .loc[row_indexer,col_indexer] = value instead\n",
      "\n",
      "See the caveats in the documentation: https://pandas.pydata.org/pandas-docs/stable/user_guide/indexing.html#returning-a-view-versus-a-copy\n",
      "  mini_tcf_df['Source'] = 'TCF'\n"
     ]
    }
   ],
   "source": [
    "# join the data together\n",
    "set_df['Source'] = 'SET'\n",
    "\n",
    "mini_tcf_df = tcf_df[['Review Text', 'Compound Score', 'Positive Score', 'Neutral Score', 'Negative Score']]\n",
    "mini_tcf_df['Source'] = 'TCF'\n",
    "mini_tcf_df = mini_tcf_df.rename(columns={\"Review Text\":\"Comments\"})\n",
    "\n",
    "df = pd.concat([set_df, mini_tcf_df])\n",
    "\n",
    "# move Source to be the first column\n",
    "source_col = df.pop('Source')\n",
    "df.insert(0, 'Source', source_col)\n",
    "\n",
    "# save dataframe to csv\n",
    "#df.to_csv('student_eval_data.csv', index=False)"
   ]
  },
  {
   "cell_type": "markdown",
   "metadata": {},
   "source": [
    "## Exploratory Data Analysis"
   ]
  },
  {
   "cell_type": "code",
   "execution_count": null,
   "metadata": {},
   "outputs": [],
   "source": []
  }
 ],
 "metadata": {
  "kernelspec": {
   "display_name": "Python 3",
   "language": "python",
   "name": "python3"
  },
  "language_info": {
   "codemirror_mode": {
    "name": "ipython",
    "version": 3
   },
   "file_extension": ".py",
   "mimetype": "text/x-python",
   "name": "python",
   "nbconvert_exporter": "python",
   "pygments_lexer": "ipython3",
   "version": "3.12.1"
  }
 },
 "nbformat": 4,
 "nbformat_minor": 2
}
