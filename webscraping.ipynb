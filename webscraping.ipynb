{
 "cells": [
  {
   "cell_type": "markdown",
   "metadata": {},
   "source": [
    "## SET Evals PDF Scraping"
   ]
  },
  {
   "cell_type": "code",
   "execution_count": 2,
   "metadata": {},
   "outputs": [],
   "source": [
    "import pdfplumber"
   ]
  },
  {
   "cell_type": "code",
   "execution_count": 3,
   "metadata": {},
   "outputs": [],
   "source": [
    "pdf = pdfplumber.open('ECON 2010-F23-Course Comments.pdf')\n",
    "page = pdf.pages[0]\n",
    "text = page.extract_text()"
   ]
  },
  {
   "cell_type": "code",
   "execution_count": 4,
   "metadata": {},
   "outputs": [
    {
     "name": "stdout",
     "output_type": "stream",
     "text": [
      "University of Virginia\n",
      "Course Comments\n",
      "What would you like the instructor and university administrators to know about your experience in this\n",
      "course?\n",
      "Comments\n",
      "I don't really understand the complexities between what needs to be known in the textbook, Colander, and what Elzinga believes.\n",
      "The grading for exams are also incredibly harsh and vary TA to TA, which makes it difficult to do very well, especially on short answer\n",
      "based exams.\n",
      "I really enjoyed Professor Elzinga's lectures, they were always interesting and well organized, and despite what last year's students\n",
      "might have said I felt like they went by quickly because they were never boring. I thought the test questions in general were relevant\n",
      "and fair.\n",
      "El Zinga's the goat.\n",
      "I feel like the course material is covered in khan academy, which is helpful, but the lectures I feel like are not as helpful.\n",
      "The lectures are not as demonstrative. The graphs aren't drawn for us. And I feel like unnecessary topics were covered.\n",
      "It was a positive experience.\n",
      "Interesting concepts but not applied very well\n",
      "Professor Elzinga is a great lecturer and very engaging (but I'm sure you already know that).\n",
      "Professor Elzinga is awesome and really cares about his students! Great course.\n",
      "My experience could have been improved by being provided with answer keys to practice tests the TAs handed out before midterms.\n",
      "Going in, I was dreading taking economics and I just wanted to get through it and do well as a prerequisite. Now I actually find It very\n",
      "interesting!\n",
      "I enjoyed this course a lot and it made me want to major in economics.\n",
      "I thoroughly enjoyed this course\n",
      "solid experience\n",
      "I enjoyed the course overall, however the large midterm exam model created a lot of stress due to time constraints and how the\n",
      "questions were phrased.\n",
      "It was great! Made me feel interested in economics and invested in the course concepts\n",
      "I was always a high achiever in high school and everything I did came natural. I came to college thinking it was not going to be too\n",
      "different. Consequently, I was wrong because this class showed me that I am not always going to have the advantage, rather at\n",
      "times with a disadvantage. Either that comes with not having the best resources like the better TA, or more help from any resource\n",
      "available. I would not want to change anything but would rather just say thank you to allowing me to have to study harder and\n",
      "smarter. It was a learning experience to really dive deep into the topics that I have not done in the past. This course is one of the\n",
      "courses where you know it or you do not and if you do not, you must make the decision to come to like studying. It made me\n",
      "become obsessed at times to learn every single detail which I hated and loved at the same time. When I speak about the course, I\n",
      "have more things to say about what lessons I learned in my growth as a student rather than just the content. It made me go through\n",
      "challenges that I learned from that will last a lifetime. Thank you Mr. Elzinga.\n",
      "I would like the instructor and the university administrators to know that they should continue running the course. One\n",
      "recommendation, though, is to put more emphasis on the externalities section during lecture.\n",
      "–\n",
      "it is too exam heavy\n",
      "My overall experience was solid, there is not much to complain about. I enjoyed Elzinga's lectures and the humor he applies to the\n",
      "lessons. My only piece of advice is that it would appreciate if the TA provided more review problems and set questions because\n",
      "there have been times where other students received content from their TAs.\n",
      "Good experience, professor who is enthusiastic about teaching and made he topics interesting.\n",
      "It was great.\n",
      "I didn't exactly know what to expect from Econ since I hadn't taken it in high school before coming to UVA, but it wasn't as bad as I\n",
      "thought.\n",
      "i gained a sound understanding of basic micro concepts, thank you\n",
      "This is a great course and should continue to be taught by Mr. Elzinga.\n",
      "I enjoyed how professor Elzinga appealed to all the students with different interests. I also found it very encouraging that he actually\n",
      "read the class guestbook.\n",
      "I enjoyed this course. I think it would be helpful if there was a little more information on the slides or it was recorded so I could\n",
      "Fall 2023 Individual Instructor Report - Aggregate All courses - Confidential 32/92\n"
     ]
    }
   ],
   "source": [
    "print(text)"
   ]
  },
  {
   "cell_type": "markdown",
   "metadata": {},
   "source": [
    "## The Course Forum Webscraping"
   ]
  },
  {
   "cell_type": "code",
   "execution_count": 2,
   "metadata": {},
   "outputs": [],
   "source": [
    "import requests"
   ]
  },
  {
   "cell_type": "code",
   "execution_count": 3,
   "metadata": {},
   "outputs": [],
   "source": [
    "URL = \"https://thecourseforum.com/course/748/691/\"\n",
    "page = requests.get(URL)"
   ]
  },
  {
   "cell_type": "code",
   "execution_count": null,
   "metadata": {},
   "outputs": [],
   "source": []
  }
 ],
 "metadata": {
  "kernelspec": {
   "display_name": "Python 3",
   "language": "python",
   "name": "python3"
  },
  "language_info": {
   "codemirror_mode": {
    "name": "ipython",
    "version": 3
   },
   "file_extension": ".py",
   "mimetype": "text/x-python",
   "name": "python",
   "nbconvert_exporter": "python",
   "pygments_lexer": "ipython3",
   "version": "3.12.1"
  }
 },
 "nbformat": 4,
 "nbformat_minor": 2
}
