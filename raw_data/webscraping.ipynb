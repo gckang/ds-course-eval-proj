{
 "cells": [
  {
   "cell_type": "code",
   "execution_count": 88,
   "metadata": {},
   "outputs": [],
   "source": [
    "import pandas as pd"
   ]
  },
  {
   "cell_type": "markdown",
   "metadata": {},
   "source": [
    "## SET Evals PDF Scraping\n",
    "Used [Tabula](https://tabula.technology/) to intially extract the tales from the PDF file."
   ]
  },
  {
   "cell_type": "code",
   "execution_count": 89,
   "metadata": {},
   "outputs": [],
   "source": [
    "set_df = pd.read_csv('tabula-ECON 2010-F23-Course Comments.csv')"
   ]
  },
  {
   "cell_type": "code",
   "execution_count": 90,
   "metadata": {},
   "outputs": [],
   "source": [
    "# cleaning the scraped table column headers\n",
    "set_df.drop(set_df.index[set_df['Comments'] == \"Comments\"], inplace = True)"
   ]
  },
  {
   "cell_type": "code",
   "execution_count": 91,
   "metadata": {},
   "outputs": [
    {
     "name": "stdout",
     "output_type": "stream",
     "text": [
      "(636, 1)\n"
     ]
    },
    {
     "data": {
      "text/html": [
       "<div>\n",
       "<style scoped>\n",
       "    .dataframe tbody tr th:only-of-type {\n",
       "        vertical-align: middle;\n",
       "    }\n",
       "\n",
       "    .dataframe tbody tr th {\n",
       "        vertical-align: top;\n",
       "    }\n",
       "\n",
       "    .dataframe thead th {\n",
       "        text-align: right;\n",
       "    }\n",
       "</style>\n",
       "<table border=\"1\" class=\"dataframe\">\n",
       "  <thead>\n",
       "    <tr style=\"text-align: right;\">\n",
       "      <th></th>\n",
       "      <th>Comments</th>\n",
       "    </tr>\n",
       "  </thead>\n",
       "  <tbody>\n",
       "    <tr>\n",
       "      <th>0</th>\n",
       "      <td>I don't really understand the complexities bet...</td>\n",
       "    </tr>\n",
       "    <tr>\n",
       "      <th>1</th>\n",
       "      <td>I really enjoyed Professor Elzinga's lectures,...</td>\n",
       "    </tr>\n",
       "    <tr>\n",
       "      <th>2</th>\n",
       "      <td>El Zinga's the goat.</td>\n",
       "    </tr>\n",
       "    <tr>\n",
       "      <th>3</th>\n",
       "      <td>I feel like the course material is covered in ...</td>\n",
       "    </tr>\n",
       "    <tr>\n",
       "      <th>4</th>\n",
       "      <td>It was a positive experience.</td>\n",
       "    </tr>\n",
       "  </tbody>\n",
       "</table>\n",
       "</div>"
      ],
      "text/plain": [
       "                                            Comments\n",
       "0  I don't really understand the complexities bet...\n",
       "1  I really enjoyed Professor Elzinga's lectures,...\n",
       "2                               El Zinga's the goat.\n",
       "3  I feel like the course material is covered in ...\n",
       "4                      It was a positive experience."
      ]
     },
     "execution_count": 91,
     "metadata": {},
     "output_type": "execute_result"
    }
   ],
   "source": [
    "print(set_df.shape)\n",
    "set_df.head()"
   ]
  },
  {
   "cell_type": "markdown",
   "metadata": {},
   "source": [
    "### Initial cleaning of the dataset"
   ]
  },
  {
   "cell_type": "code",
   "execution_count": 92,
   "metadata": {},
   "outputs": [],
   "source": [
    "# drop nulls + none + no\n",
    "set_df.drop(set_df.index[set_df['Comments'].isnull()], inplace = True)\n",
    "set_df.drop(set_df.index[set_df['Comments'] == \"No\"], inplace = True)\n",
    "set_df.drop(set_df.index[set_df['Comments'] == \"no\"], inplace = True)"
   ]
  },
  {
   "cell_type": "code",
   "execution_count": 93,
   "metadata": {},
   "outputs": [
    {
     "data": {
      "text/html": [
       "<div>\n",
       "<style scoped>\n",
       "    .dataframe tbody tr th:only-of-type {\n",
       "        vertical-align: middle;\n",
       "    }\n",
       "\n",
       "    .dataframe tbody tr th {\n",
       "        vertical-align: top;\n",
       "    }\n",
       "\n",
       "    .dataframe thead th {\n",
       "        text-align: right;\n",
       "    }\n",
       "</style>\n",
       "<table border=\"1\" class=\"dataframe\">\n",
       "  <thead>\n",
       "    <tr style=\"text-align: right;\">\n",
       "      <th></th>\n",
       "      <th>Comments</th>\n",
       "    </tr>\n",
       "  </thead>\n",
       "  <tbody>\n",
       "    <tr>\n",
       "      <th>58</th>\n",
       "      <td>Nothing really, maybe just that the lectures c...</td>\n",
       "    </tr>\n",
       "    <tr>\n",
       "      <th>61</th>\n",
       "      <td>Nothing in particular, sometimes the lectures ...</td>\n",
       "    </tr>\n",
       "    <tr>\n",
       "      <th>71</th>\n",
       "      <td>nothing really</td>\n",
       "    </tr>\n",
       "    <tr>\n",
       "      <th>78</th>\n",
       "      <td>Nothing much</td>\n",
       "    </tr>\n",
       "    <tr>\n",
       "      <th>100</th>\n",
       "      <td>This course was confusing and enlightening to ...</td>\n",
       "    </tr>\n",
       "    <tr>\n",
       "      <th>106</th>\n",
       "      <td>Nothing</td>\n",
       "    </tr>\n",
       "    <tr>\n",
       "      <th>151</th>\n",
       "      <td>The learning is very self–involved. Most of my...</td>\n",
       "    </tr>\n",
       "    <tr>\n",
       "      <th>395</th>\n",
       "      <td>nothing</td>\n",
       "    </tr>\n",
       "  </tbody>\n",
       "</table>\n",
       "</div>"
      ],
      "text/plain": [
       "                                              Comments\n",
       "58   Nothing really, maybe just that the lectures c...\n",
       "61   Nothing in particular, sometimes the lectures ...\n",
       "71                                      nothing really\n",
       "78                                        Nothing much\n",
       "100  This course was confusing and enlightening to ...\n",
       "106                                            Nothing\n",
       "151  The learning is very self–involved. Most of my...\n",
       "395                                            nothing"
      ]
     },
     "execution_count": 93,
     "metadata": {},
     "output_type": "execute_result"
    }
   ],
   "source": [
    "# find and hardcode drop the ones that are just nothing\n",
    "set_df[set_df['Comments'].str.contains(\"nothing\", case=False)]"
   ]
  },
  {
   "cell_type": "code",
   "execution_count": 94,
   "metadata": {},
   "outputs": [],
   "source": [
    "set_df = set_df.drop([71, 78, 106, 395])"
   ]
  },
  {
   "cell_type": "code",
   "execution_count": 95,
   "metadata": {},
   "outputs": [
    {
     "data": {
      "text/html": [
       "<div>\n",
       "<style scoped>\n",
       "    .dataframe tbody tr th:only-of-type {\n",
       "        vertical-align: middle;\n",
       "    }\n",
       "\n",
       "    .dataframe tbody tr th {\n",
       "        vertical-align: top;\n",
       "    }\n",
       "\n",
       "    .dataframe thead th {\n",
       "        text-align: right;\n",
       "    }\n",
       "</style>\n",
       "<table border=\"1\" class=\"dataframe\">\n",
       "  <thead>\n",
       "    <tr style=\"text-align: right;\">\n",
       "      <th></th>\n",
       "      <th>Comments</th>\n",
       "    </tr>\n",
       "  </thead>\n",
       "  <tbody>\n",
       "    <tr>\n",
       "      <th>58</th>\n",
       "      <td>Nothing really, maybe just that the lectures c...</td>\n",
       "    </tr>\n",
       "    <tr>\n",
       "      <th>61</th>\n",
       "      <td>Nothing in particular, sometimes the lectures ...</td>\n",
       "    </tr>\n",
       "    <tr>\n",
       "      <th>100</th>\n",
       "      <td>This course was confusing and enlightening to ...</td>\n",
       "    </tr>\n",
       "    <tr>\n",
       "      <th>151</th>\n",
       "      <td>The learning is very self–involved. Most of my...</td>\n",
       "    </tr>\n",
       "  </tbody>\n",
       "</table>\n",
       "</div>"
      ],
      "text/plain": [
       "                                              Comments\n",
       "58   Nothing really, maybe just that the lectures c...\n",
       "61   Nothing in particular, sometimes the lectures ...\n",
       "100  This course was confusing and enlightening to ...\n",
       "151  The learning is very self–involved. Most of my..."
      ]
     },
     "execution_count": 95,
     "metadata": {},
     "output_type": "execute_result"
    }
   ],
   "source": [
    "# check if they actally got dropped\n",
    "set_df[set_df['Comments'].str.contains(\"nothing\", case=False)]"
   ]
  },
  {
   "cell_type": "code",
   "execution_count": 96,
   "metadata": {},
   "outputs": [],
   "source": [
    "# save cleaned dataset\n",
    "# set_df.to_csv('cleaned-set.csv', index=False) "
   ]
  },
  {
   "cell_type": "code",
   "execution_count": 97,
   "metadata": {},
   "outputs": [
    {
     "data": {
      "text/plain": [
       "(615, 1)"
      ]
     },
     "execution_count": 97,
     "metadata": {},
     "output_type": "execute_result"
    }
   ],
   "source": [
    "set_df.head()\n",
    "set_df.shape"
   ]
  },
  {
   "cell_type": "markdown",
   "metadata": {},
   "source": [
    "## The Course Forum Webscraping"
   ]
  },
  {
   "cell_type": "code",
   "execution_count": 146,
   "metadata": {},
   "outputs": [],
   "source": [
    "import requests\n",
    "from bs4 import BeautifulSoup"
   ]
  },
  {
   "cell_type": "code",
   "execution_count": 147,
   "metadata": {},
   "outputs": [],
   "source": [
    "URL = \"https://thecourseforum.com/course/748/691/\"\n",
    "page = requests.get(URL)"
   ]
  },
  {
   "cell_type": "code",
   "execution_count": 148,
   "metadata": {},
   "outputs": [],
   "source": [
    "soup = BeautifulSoup(page.content, \"html.parser\")"
   ]
  },
  {
   "cell_type": "code",
   "execution_count": 149,
   "metadata": {},
   "outputs": [],
   "source": [
    "reviews = soup.find_all(\"div\", class_=\"review card mb-2\")"
   ]
  },
  {
   "cell_type": "code",
   "execution_count": null,
   "metadata": {},
   "outputs": [],
   "source": [
    "rows = []\n",
    "for review in reviews:\n",
    "    semester = review.find(\"h6\", class_=\"font-weight-bold text-tcf-orange\").getText()\n",
    "    last_updated = review.find(\"h6\", class_=\"text-muted\").getText()\n",
    "    last_updated = last_updated.replace('Updated ', '')     # keep only the date the comment was last updated\n",
    "    review_text = review.find(\"div\", class_=\"review-text-full\").getText()\n",
    "    upvotes = review.find(\"span\", class_=\"upvoteCount\").getText()\n",
    "    downvotes = review.find(\"span\", class_=\"downvoteCount\").getText()\n",
    "    review_avg = review.find('div', id='review-average').text.strip()\n",
    "    instr_rating = review.find('i', class_='fa-user').find_parent('div').text.strip()\n",
    "    enjoyability = review.find('i', class_='far fa-smile-beam').find_parent('div').text.strip()\n",
    "    recommend = review.find('i', class_='fas fa-heart').find_parent('div').text.strip()\n",
    "    difficulty = review.find('i', class_='fa fa-dumbbell fa-fw').find_parent('div').text.strip()\n",
    "    weekly_hrs = review.find('i', class_='fa fa-hourglass-half fa-fw').find_parent('div').text.strip()\n",
    "    rows.append([semester, last_updated, review_text, upvotes, downvotes, review_avg, instr_rating, enjoyability, recommend, difficulty, weekly_hrs])\n",
    "\n",
    "tcf_df = pd.DataFrame(rows, columns=[\"Semester\", \"Last Updated\", \"Review Text\", \"Upvotes\", \"Downvotes\", \"Review Average\", \"Instr Rating\", \"Enoyability\", \"Recommend\", \"Difficulty\", \"Hours Per Week\"])\n"
   ]
  },
  {
   "cell_type": "code",
   "execution_count": 153,
   "metadata": {},
   "outputs": [
    {
     "name": "stdout",
     "output_type": "stream",
     "text": [
      "(408, 11)\n"
     ]
    },
    {
     "data": {
      "text/html": [
       "<div>\n",
       "<style scoped>\n",
       "    .dataframe tbody tr th:only-of-type {\n",
       "        vertical-align: middle;\n",
       "    }\n",
       "\n",
       "    .dataframe tbody tr th {\n",
       "        vertical-align: top;\n",
       "    }\n",
       "\n",
       "    .dataframe thead th {\n",
       "        text-align: right;\n",
       "    }\n",
       "</style>\n",
       "<table border=\"1\" class=\"dataframe\">\n",
       "  <thead>\n",
       "    <tr style=\"text-align: right;\">\n",
       "      <th></th>\n",
       "      <th>Semester</th>\n",
       "      <th>Last Updated</th>\n",
       "      <th>Review Text</th>\n",
       "      <th>Upvotes</th>\n",
       "      <th>Downvotes</th>\n",
       "      <th>Review Average</th>\n",
       "      <th>Instr Rating</th>\n",
       "      <th>Enoyability</th>\n",
       "      <th>Recommend</th>\n",
       "      <th>Difficulty</th>\n",
       "      <th>Hours Per Week</th>\n",
       "    </tr>\n",
       "  </thead>\n",
       "  <tbody>\n",
       "    <tr>\n",
       "      <th>0</th>\n",
       "      <td>Fall 2023</td>\n",
       "      <td>7/25/24</td>\n",
       "      <td>This class was a decent introduction to microe...</td>\n",
       "      <td>0</td>\n",
       "      <td>0</td>\n",
       "      <td>3.00</td>\n",
       "      <td>3</td>\n",
       "      <td>2</td>\n",
       "      <td>4</td>\n",
       "      <td>2</td>\n",
       "      <td>6</td>\n",
       "    </tr>\n",
       "    <tr>\n",
       "      <th>1</th>\n",
       "      <td>Fall 2023</td>\n",
       "      <td>4/27/24</td>\n",
       "      <td>TAKE DOYLE TAKE DOYLE TAKE DOYLE. This guy is ...</td>\n",
       "      <td>1</td>\n",
       "      <td>0</td>\n",
       "      <td>1.00</td>\n",
       "      <td>1</td>\n",
       "      <td>1</td>\n",
       "      <td>1</td>\n",
       "      <td>5</td>\n",
       "      <td>13</td>\n",
       "    </tr>\n",
       "    <tr>\n",
       "      <th>2</th>\n",
       "      <td>Fall 2023</td>\n",
       "      <td>4/11/24</td>\n",
       "      <td>If you're gonna take Econ201, do it with Elzin...</td>\n",
       "      <td>0</td>\n",
       "      <td>0</td>\n",
       "      <td>3.67</td>\n",
       "      <td>4</td>\n",
       "      <td>3</td>\n",
       "      <td>4</td>\n",
       "      <td>3</td>\n",
       "      <td>5</td>\n",
       "    </tr>\n",
       "    <tr>\n",
       "      <th>3</th>\n",
       "      <td>Fall 2023</td>\n",
       "      <td>4/11/24</td>\n",
       "      <td>This is a class you most likely will have to t...</td>\n",
       "      <td>0</td>\n",
       "      <td>0</td>\n",
       "      <td>3.00</td>\n",
       "      <td>3</td>\n",
       "      <td>3</td>\n",
       "      <td>3</td>\n",
       "      <td>3</td>\n",
       "      <td>4</td>\n",
       "    </tr>\n",
       "    <tr>\n",
       "      <th>4</th>\n",
       "      <td>Fall 2023</td>\n",
       "      <td>4/02/24</td>\n",
       "      <td>The lectures are super boring but the micro co...</td>\n",
       "      <td>0</td>\n",
       "      <td>0</td>\n",
       "      <td>4.67</td>\n",
       "      <td>4</td>\n",
       "      <td>5</td>\n",
       "      <td>5</td>\n",
       "      <td>3</td>\n",
       "      <td>3</td>\n",
       "    </tr>\n",
       "  </tbody>\n",
       "</table>\n",
       "</div>"
      ],
      "text/plain": [
       "    Semester Last Updated                                        Review Text  \\\n",
       "0  Fall 2023      7/25/24  This class was a decent introduction to microe...   \n",
       "1  Fall 2023      4/27/24  TAKE DOYLE TAKE DOYLE TAKE DOYLE. This guy is ...   \n",
       "2  Fall 2023      4/11/24  If you're gonna take Econ201, do it with Elzin...   \n",
       "3  Fall 2023      4/11/24  This is a class you most likely will have to t...   \n",
       "4  Fall 2023      4/02/24  The lectures are super boring but the micro co...   \n",
       "\n",
       "  Upvotes Downvotes Review Average Instr Rating Enoyability Recommend  \\\n",
       "0       0         0           3.00            3           2         4   \n",
       "1       1         0           1.00            1           1         1   \n",
       "2       0         0           3.67            4           3         4   \n",
       "3       0         0           3.00            3           3         3   \n",
       "4       0         0           4.67            4           5         5   \n",
       "\n",
       "  Difficulty Hours Per Week  \n",
       "0          2              6  \n",
       "1          5             13  \n",
       "2          3              5  \n",
       "3          3              4  \n",
       "4          3              3  "
      ]
     },
     "execution_count": 153,
     "metadata": {},
     "output_type": "execute_result"
    }
   ],
   "source": [
    "print(tcf_df.shape)\n",
    "tcf_df.head()"
   ]
  },
  {
   "cell_type": "code",
   "execution_count": 152,
   "metadata": {},
   "outputs": [],
   "source": [
    "# save webscraped dataset\n",
    "# tcf_df.to_csv('cleaned-tcf.csv', index=False) "
   ]
  }
 ],
 "metadata": {
  "kernelspec": {
   "display_name": "Python 3",
   "language": "python",
   "name": "python3"
  },
  "language_info": {
   "codemirror_mode": {
    "name": "ipython",
    "version": 3
   },
   "file_extension": ".py",
   "mimetype": "text/x-python",
   "name": "python",
   "nbconvert_exporter": "python",
   "pygments_lexer": "ipython3",
   "version": "3.12.1"
  }
 },
 "nbformat": 4,
 "nbformat_minor": 2
}
